{
 "cells": [
  {
   "cell_type": "markdown",
   "id": "c1d51175",
   "metadata": {},
   "source": [
    "# Visualisierung von Linearen Abbildungen"
   ]
  },
  {
   "cell_type": "markdown",
   "id": "bdda85f6",
   "metadata": {},
   "source": [
    "**Aufbau der Matrix:**\n",
    "\n",
    "$$\n",
    "A = \n",
    "\\begin{pmatrix}\n",
    "a_{11} & a_{12} \\\\\n",
    "a_{21} & a_{22}\n",
    "\\end{pmatrix}\n",
    "$$"
   ]
  },
  {
   "cell_type": "code",
   "execution_count": 2,
   "id": "2cef1ed9",
   "metadata": {},
   "outputs": [],
   "source": [
    "from manim import *\n",
    "config.media_width = \"100%\""
   ]
  },
  {
   "cell_type": "code",
   "execution_count": null,
   "id": "e67d6b75",
   "metadata": {},
   "outputs": [
    {
     "data": {
      "text/html": [
       "<pre style=\"white-space:pre;overflow-x:auto;line-height:normal;font-family:Menlo,'DejaVu Sans Mono',consolas,'Courier New',monospace\">Manim Community <span style=\"color: #008000; text-decoration-color: #008000\">v0.19.0</span>\n",
       "\n",
       "</pre>\n"
      ],
      "text/plain": [
       "Manim Community \u001b[32mv0.\u001b[0m\u001b[32m19.0\u001b[0m\n",
       "\n"
      ]
     },
     "metadata": {},
     "output_type": "display_data"
    },
    {
     "name": "stderr",
     "output_type": "stream",
     "text": [
      "                                                                                                              \r"
     ]
    },
    {
     "data": {
      "text/html": [
       "<video src=\"media/jupyter/LineareAbbildungen@2025-05-06@11-37-21.mp4\" controls autoplay loop style=\"max-width: 100%;\"  >\n",
       "      Your browser does not support the <code>video</code> element.\n",
       "    </video>"
      ],
      "text/plain": [
       "<IPython.core.display.Video object>"
      ]
     },
     "metadata": {},
     "output_type": "display_data"
    }
   ],
   "source": [
    "%%manim -qm -v WARNING LineareAbbildungen\n",
    "\n",
    "class LineareAbbildungen(LinearTransformationScene):\n",
    "    def __init__(self, **kwargs):\n",
    "        LinearTransformationScene.__init__(\n",
    "            self,\n",
    "            show_coordinates = True,\n",
    "            **kwargs\n",
    "        )\n",
    "    def construct(self):\n",
    "        \n",
    "        a_11 = 2\n",
    "        a_12 = 1\n",
    "        a_21 = 1\n",
    "        a_22 = 1\n",
    "\n",
    "        matrix = [\n",
    "            [a_11, a_12],\n",
    "            [a_21, a_22]\n",
    "        ]\n",
    "\n",
    "        self.apply_matrix(matrix)\n",
    "        self.wait(1)"
   ]
  },
  {
   "cell_type": "code",
   "execution_count": 1,
   "id": "6be29c68",
   "metadata": {},
   "outputs": [
    {
     "data": {
      "application/vnd.jupyter.widget-view+json": {
       "model_id": "0091a8bf884d486ab73f9670c98a9ca7",
       "version_major": 2,
       "version_minor": 0
      },
      "text/plain": [
       "VBox(children=(HBox(children=(FloatText(value=2.0, description='a₁₁:', layout=Layout(width='80px'), style=Desc…"
      ]
     },
     "metadata": {},
     "output_type": "display_data"
    },
    {
     "data": {
      "application/vnd.jupyter.widget-view+json": {
       "model_id": "6a0c43dbaf154d5680ab4cd7f93a7755",
       "version_major": 2,
       "version_minor": 0
      },
      "text/plain": [
       "Output()"
      ]
     },
     "metadata": {},
     "output_type": "display_data"
    }
   ],
   "source": [
    "# Zelle 1: Importe und Konfiguration\n",
    "from manim import *\n",
    "from ipywidgets import FloatText, Button, HBox, VBox, Layout, Output\n",
    "from IPython.display import display, clear_output\n",
    "\n",
    "config.media_width = \"80%\"  # Notebook–Weite für Videos\n",
    "\n",
    "# Diese Ausgabe-Fläche kapselt unser Manim-Output\n",
    "manim_out = Output()\n",
    "\n",
    "# Eingabefelder für die vier Matrix-Einträge\n",
    "style = {'description_width': '40px'}\n",
    "layout = Layout(width='80px')\n",
    "\n",
    "a11_input = FloatText(value=2.0, description='a₁₁:', style=style, layout=layout)\n",
    "a12_input = FloatText(value=1.0, description='a₁₂:', style=style, layout=layout)\n",
    "a21_input = FloatText(value=1.0, description='a₂₁:', style=style, layout=layout)\n",
    "a22_input = FloatText(value=1.0, description='a₂₂:', style=style, layout=layout)\n",
    "\n",
    "# Render-Button\n",
    "render_btn = Button(description='Render', button_style='primary')\n",
    "\n",
    "# Callback-Funktion\n",
    "def on_render_clicked(b):\n",
    "    # Leere vorherige Ausgabe (Video-Player o.ä.)\n",
    "    with manim_out:\n",
    "        clear_output(wait=True)\n",
    "        # Baue dynamisch den Szenencode zusammen\n",
    "        scene_code = f\"\"\"\n",
    "class DynamicLinearMap(LinearTransformationScene):\n",
    "    def __init__(self, **kwargs):\n",
    "        super().__init__(show_coordinates=True, **kwargs)\n",
    "    def construct(self):\n",
    "        matrix = [\n",
    "            [{a11_input.value}, {a12_input.value}],\n",
    "            [{a21_input.value}, {a22_input.value}]\n",
    "        ]\n",
    "        self.apply_matrix(matrix)\n",
    "        self.wait(1)\n",
    "\"\"\"\n",
    "        # Starte das Rendering via Magic\n",
    "        get_ipython().run_cell_magic(\n",
    "            'manim', \n",
    "            '-qm -v WARNING DynamicLinearMap', \n",
    "            scene_code\n",
    "        )\n",
    "\n",
    "# Button-Event verbinden\n",
    "render_btn.on_click(on_render_clicked)\n",
    "\n",
    "# Layout: Eingaben nebeneinander, Button darunter\n",
    "controls = VBox([\n",
    "    HBox([a11_input, a12_input, a21_input, a22_input], layout=Layout(margin='0 0 10px 0')),\n",
    "    render_btn\n",
    "])\n",
    "\n",
    "# Darstellung im Notebook\n",
    "display(controls, manim_out)"
   ]
  },
  {
   "cell_type": "code",
   "execution_count": null,
   "id": "c0d3b9cc",
   "metadata": {},
   "outputs": [],
   "source": []
  }
 ],
 "metadata": {
  "kernelspec": {
   "display_name": ".venv",
   "language": "python",
   "name": "python3"
  },
  "language_info": {
   "codemirror_mode": {
    "name": "ipython",
    "version": 3
   },
   "file_extension": ".py",
   "mimetype": "text/x-python",
   "name": "python",
   "nbconvert_exporter": "python",
   "pygments_lexer": "ipython3",
   "version": "3.13.2"
  }
 },
 "nbformat": 4,
 "nbformat_minor": 5
}
