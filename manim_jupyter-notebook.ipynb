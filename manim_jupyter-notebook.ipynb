{
 "cells": [
  {
   "cell_type": "markdown",
   "id": "c1d51175",
   "metadata": {},
   "source": [
    "# Visualisierung Matrix"
   ]
  },
  {
   "cell_type": "markdown",
   "id": "6b04fe32",
   "metadata": {},
   "source": []
  }
 ],
 "metadata": {
  "kernelspec": {
   "display_name": ".venv",
   "language": "python",
   "name": "python3"
  },
  "language_info": {
   "name": "python",
   "version": "3.13.2"
  }
 },
 "nbformat": 4,
 "nbformat_minor": 5
}
